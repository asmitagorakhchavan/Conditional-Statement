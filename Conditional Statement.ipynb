{
 "cells": [
  {
   "cell_type": "markdown",
   "id": "ad61179e-f128-42dd-833b-dd7ddf8a9af0",
   "metadata": {},
   "source": [
    "write a program that gives user number is even"
   ]
  },
  {
   "cell_type": "code",
   "execution_count": 8,
   "id": "afcf51d4-e6a7-485e-81aa-f9fcc3d10f5e",
   "metadata": {},
   "outputs": [
    {
     "name": "stdin",
     "output_type": "stream",
     "text": [
      "Enter the number 4\n"
     ]
    },
    {
     "name": "stdout",
     "output_type": "stream",
     "text": [
      "even number\n"
     ]
    }
   ],
   "source": [
    "num = int(input(\"Enter the number\"))      #if Statement\n",
    "if num%2 == 0: \n",
    "    print(\"even number\")"
   ]
  },
  {
   "cell_type": "markdown",
   "id": "bd309dbc-6eb1-4923-8f5e-da19051d0f85",
   "metadata": {},
   "source": [
    "Write a program that asks for the user's age and determines if they are eligible to vote or not"
   ]
  },
  {
   "cell_type": "code",
   "execution_count": 4,
   "id": "cf9ea7d3-5151-423b-adb5-103f2b420021",
   "metadata": {},
   "outputs": [
    {
     "name": "stdin",
     "output_type": "stream",
     "text": [
      "Enter your age 20\n"
     ]
    },
    {
     "name": "stdout",
     "output_type": "stream",
     "text": [
      "you are eligible to vote\n"
     ]
    }
   ],
   "source": [
    "Age = int(input(\"Enter your age\"))    #if-else Statement\n",
    "if (Age >=18):\n",
    "    print(\"you are eligible to vote\")\n",
    "else:\n",
    "    print(\"you are not eligible to vote\")"
   ]
  },
  {
   "cell_type": "markdown",
   "id": "2c1dbbf4-27da-42d9-a140-460a466a46f3",
   "metadata": {},
   "source": [
    "Write a program that takes two numbers as input from the user and perform the following operations on them"
   ]
  },
  {
   "cell_type": "code",
   "execution_count": 10,
   "id": "de0d55a7-2ae0-48d3-afd0-99ffde27a04e",
   "metadata": {},
   "outputs": [
    {
     "name": "stdin",
     "output_type": "stream",
     "text": [
      "Enter number 1 20\n",
      "Enter number 2 30\n",
      "enter mathematical operation including (+,-,*,/) +\n"
     ]
    },
    {
     "name": "stdout",
     "output_type": "stream",
     "text": [
      "50\n"
     ]
    }
   ],
   "source": [
    "num1=int(input(\"Enter number 1\"))     #if-elif-else\n",
    "num2=int(input(\"Enter number 2\"))\n",
    "operations=input(\"enter mathematical operation including (+,-,*,/)\")\n",
    "if operations == \"+\":\n",
    "    print(num1+num2)\n",
    "elif operations == \"-\":\n",
    "    print(num1-num2)\n",
    "elif operations == \"*\":\n",
    "    print(num1*num2)\n",
    "elif operations == \"/\":\n",
    "    print(num1/num2)\n",
    "else:\n",
    "    print(\"enter valid operation\")"
   ]
  },
  {
   "cell_type": "markdown",
   "id": "2cf6b597-de85-4dbb-9640-f47267988db5",
   "metadata": {},
   "source": [
    "Write a program that takes three number as input from the user and determines which one is the largest"
   ]
  },
  {
   "cell_type": "code",
   "execution_count": 11,
   "id": "91d5075f-5599-4f80-ac7d-9840a8c8c812",
   "metadata": {},
   "outputs": [
    {
     "name": "stdin",
     "output_type": "stream",
     "text": [
      "Enter first number 20\n",
      "Enter second number 30\n",
      "Enter third number 40\n"
     ]
    },
    {
     "name": "stdout",
     "output_type": "stream",
     "text": [
      "the largest number is 40\n"
     ]
    }
   ],
   "source": [
    "num1 = int(input(\"Enter first number\"))  #nested if-else\n",
    "num2 = int(input(\"Enter second number\"))\n",
    "num3 = int(input(\"Enter third number\"))\n",
    "if num1>num2:\n",
    "    if num1>num3:\n",
    "        print(\"the largest number is \",num1)\n",
    "    else:\n",
    "        print(\"the largest number is\",num3)\n",
    "elif num2>num1:\n",
    "    if num2>num3:\n",
    "        print(\"the largest number is\",num2)\n",
    "    else:\n",
    "        print(\"the largest number is\",num3)\n",
    "else:\n",
    "    print(\"the largest number is\",num2)"
   ]
  },
  {
   "cell_type": "code",
   "execution_count": null,
   "id": "8dede2ec-bc72-4126-8c84-6cfa9efc128a",
   "metadata": {},
   "outputs": [],
   "source": []
  }
 ],
 "metadata": {
  "kernelspec": {
   "display_name": "Python 3 (ipykernel)",
   "language": "python",
   "name": "python3"
  },
  "language_info": {
   "codemirror_mode": {
    "name": "ipython",
    "version": 3
   },
   "file_extension": ".py",
   "mimetype": "text/x-python",
   "name": "python",
   "nbconvert_exporter": "python",
   "pygments_lexer": "ipython3",
   "version": "3.13.1"
  }
 },
 "nbformat": 4,
 "nbformat_minor": 5
}
